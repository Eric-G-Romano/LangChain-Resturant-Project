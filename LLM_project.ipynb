{
 "cells": [
  {
   "cell_type": "code",
   "execution_count": 1,
   "id": "678ced4f-a209-404f-88d3-7e7a3144817f",
   "metadata": {},
   "outputs": [],
   "source": [
    "from dotenv import load_dotenv\n",
    "from langchain_openai import OpenAI\n",
    "import os\n",
    "\n",
    "# load .env file\n",
    "load_dotenv()\n",
    "\n",
    "# Get the OpenAI API key\n",
    "openai_api_key = os.getenv('OPENAI_API_KEY')\n",
    "\n",
    "llm = OpenAI(api_key=openai_api_key)"
   ]
  },
  {
   "cell_type": "code",
   "execution_count": 4,
   "id": "e03b840c-4233-4bbb-979f-4e602caffdaf",
   "metadata": {},
   "outputs": [
    {
     "name": "stdout",
     "output_type": "stream",
     "text": [
      "\n",
      "\n",
      "\"Cocina Salvadoreña\" or \"El Sabor de El Salvador\"\n"
     ]
    }
   ],
   "source": [
    "name = llm(\"I want to open a restaurant for Salvadorian Food. Suggest a fancy name for this.\")\n",
    "print(name)"
   ]
  },
  {
   "cell_type": "code",
   "execution_count": 4,
   "id": "fb812ded-b827-49ac-a373-fb9baeffa001",
   "metadata": {},
   "outputs": [
    {
     "data": {
      "text/plain": [
       "'I want to open a restaurant for Salvadorian food. Suggent a fency name for this.'"
      ]
     },
     "execution_count": 4,
     "metadata": {},
     "output_type": "execute_result"
    }
   ],
   "source": [
    "from langchain.prompts import PromptTemplate\n",
    "\n",
    "prompt_template_name = PromptTemplate( \n",
    "    input_variables = ['cuisine'],\n",
    "    template = \"I want to open a restaurant for {cuisine} food. Suggent a fency name for this.\")\n",
    "prompt_template_name.format(cuisine=\"Salvadorian\")\n"
   ]
  },
  {
   "cell_type": "code",
   "execution_count": 5,
   "id": "7ba2dbf8-3522-49a8-9541-43346d4a2256",
   "metadata": {},
   "outputs": [
    {
     "name": "stderr",
     "output_type": "stream",
     "text": [
      "C:\\Users\\ericr\\OneDrive\\Desktop\\Projects\\Data Science\\LLM Projects\\LangChain-Resturant-Project\\openai-env\\lib\\site-packages\\langchain_core\\_api\\deprecation.py:119: LangChainDeprecationWarning: The class `LLMChain` was deprecated in LangChain 0.1.17 and will be removed in 0.3.0. Use RunnableSequence, e.g., `prompt | llm` instead.\n",
      "  warn_deprecated(\n",
      "C:\\Users\\ericr\\OneDrive\\Desktop\\Projects\\Data Science\\LLM Projects\\LangChain-Resturant-Project\\openai-env\\lib\\site-packages\\langchain_core\\_api\\deprecation.py:119: LangChainDeprecationWarning: The method `Chain.run` was deprecated in langchain 0.1.0 and will be removed in 0.3.0. Use invoke instead.\n",
      "  warn_deprecated(\n"
     ]
    },
    {
     "data": {
      "text/plain": [
       "'\\n\\n\"El Sabor de El Salvador\" (The Flavor of El Salvador) '"
      ]
     },
     "execution_count": 5,
     "metadata": {},
     "output_type": "execute_result"
    }
   ],
   "source": [
    "from langchain.chains import LLMChain\n",
    "\n",
    "chain = LLMChain(llm=llm, prompt=prompt_template_name)\n",
    "chain.run(\"Salvadorian\")"
   ]
  },
  {
   "cell_type": "code",
   "execution_count": 7,
   "id": "e5c98391-023e-4680-8a39-d17ab57a473f",
   "metadata": {},
   "outputs": [],
   "source": [
    "from langchain_core.output_parsers import StrOutputParser\n",
    "from langchain_core.prompts import ChatPromptTemplate\n",
    "\n",
    "prompt = ChatPromptTemplate.from_template(\"I want to open a restaurant for {cuisine} food. Suggent a fency name for this.\")\n",
    "chain = prompt | llm | StrOutputParser()\n"
   ]
  },
  {
   "cell_type": "code",
   "execution_count": 9,
   "id": "442ac841-a446-4e9d-816e-b440523ae2ec",
   "metadata": {},
   "outputs": [
    {
     "data": {
      "text/plain": [
       "'\\n\"El Sabor de El Salvador\" (The Flavor of El Salvador)'"
      ]
     },
     "execution_count": 9,
     "metadata": {},
     "output_type": "execute_result"
    }
   ],
   "source": [
    "chain.invoke({\"cuisine\": \"Salvadorian\"})"
   ]
  },
  {
   "cell_type": "code",
   "execution_count": 10,
   "id": "90afbc90-4cbb-467e-a2c4-f60a453b796c",
   "metadata": {},
   "outputs": [],
   "source": [
    "menu_prompt = ChatPromptTemplate.from_template(\"Suggest some menu items for {restaurant_name}. Return it as a comma seperated list.\")\n",
    "composed_chain = {\"restaurant_name\": chain} | menu_prompt | llm | StrOutputParser()"
   ]
  },
  {
   "cell_type": "code",
   "execution_count": 11,
   "id": "2fb50ce2-3af0-4cc9-9c48-f5caa6622c2f",
   "metadata": {},
   "outputs": [
    {
     "data": {
      "text/plain": [
       "'\\n\\n1. Pupusas\\n2. Yuca frita\\n3. Sopa de res\\n4. Pollo encebollado\\n5. Plátanos fritos\\n6. Tamal de elote\\n7. Panes con pollo\\n8. Frijoles refritos\\n9. Chicharrón con yuca\\n10. Tamales de cerdo\\n11. Enchiladas salvadoreñas\\n12. Tostadas de carne asada\\n13. Arroz con pollo\\n14. Empanadas de plátano\\n15. Quesadillas de loroco\\n16. Sopa de gallina\\n17. Chilate\\n18. Pescado frito\\n19. Churros\\n20. Horchata. '"
      ]
     },
     "execution_count": 11,
     "metadata": {},
     "output_type": "execute_result"
    }
   ],
   "source": [
    "composed_chain.invoke({\"cuisine\": \"Salvadorian\"})"
   ]
  },
  {
   "cell_type": "code",
   "execution_count": 13,
   "id": "9d9ca7f9-be18-47b4-a93b-848b9fe637c4",
   "metadata": {},
   "outputs": [
    {
     "data": {
      "text/plain": [
       "'\\n\\nPupusas, Yuca frita, Pollo encebollado, Sopa de res, Plátanos fritos, Tamales, Quesadilla salvadoreña, Empanadas, Horchata, Tres leches cake'"
      ]
     },
     "execution_count": 13,
     "metadata": {},
     "output_type": "execute_result"
    }
   ],
   "source": [
    "## Note this method may interfere with operations like streaming\n",
    "composed_chain_with_lambda = (\n",
    "    chain\n",
    "    | (lambda input: {\"restaurant_name\": input})\n",
    "    | menu_prompt\n",
    "    | llm\n",
    "    | StrOutputParser()\n",
    ")\n",
    "composed_chain_with_lambda.invoke({\"cuisine\": \"Salvadorian\"})"
   ]
  },
  {
   "cell_type": "code",
   "execution_count": 14,
   "id": "172490ad-e7c2-4b95-b8c5-83cb6419c244",
   "metadata": {},
   "outputs": [
    {
     "data": {
      "text/plain": [
       "'\\n\\nPupusas, Pollo encebollado, Sopa de res, Plátanos fritos, Yuca con chicharrón, Carne asada, Tamales, Empanadas de plátano, Ensalada de repollo, Horchata.'"
      ]
     },
     "execution_count": 14,
     "metadata": {},
     "output_type": "execute_result"
    }
   ],
   "source": [
    "from langchain_core.runnables import RunnableParallel\n",
    "\n",
    "composed_chain_with_pipe = (\n",
    "    RunnableParallel({\"restaurant_name\": chain})\n",
    "    .pipe(menu_prompt)\n",
    "    .pipe(llm)\n",
    "    .pipe(StrOutputParser()))\n",
    "\n",
    "composed_chain_with_pipe.invoke({\"cuisine\": \"Salvadorian\"})"
   ]
  },
  {
   "cell_type": "code",
   "execution_count": 19,
   "id": "1fea3c8c-c596-4de2-9b8d-1affc590a34e",
   "metadata": {},
   "outputs": [
    {
     "name": "stdout",
     "output_type": "stream",
     "text": [
      "first=ChatPromptTemplate(input_variables=['cuisine'], messages=[HumanMessagePromptTemplate(prompt=PromptTemplate(input_variables=['cuisine'], template='I want to open a restaurant for {cuisine} food. Suggent a fency name for this.'))]) middle=[OpenAI(client=<openai.resources.completions.Completions object at 0x000002369B92DA00>, async_client=<openai.resources.completions.AsyncCompletions object at 0x000002369DEC2F70>, openai_api_key=SecretStr('**********'), openai_proxy='')] last=StrOutputParser()\n"
     ]
    }
   ],
   "source": [
    "print(chain)"
   ]
  },
  {
   "cell_type": "code",
   "execution_count": 16,
   "id": "996b9901-7a2a-441f-b00d-f3af545e9d7b",
   "metadata": {},
   "outputs": [],
   "source": [
    "name_chain = LLMChain(llm=llm, prompt=prompt_template_name, output_key=\"restaurant_name\")"
   ]
  },
  {
   "cell_type": "code",
   "execution_count": 17,
   "id": "3409fd0b-1f42-4f16-a23d-a9fc6cab8de2",
   "metadata": {},
   "outputs": [
    {
     "name": "stdout",
     "output_type": "stream",
     "text": [
      "prompt=PromptTemplate(input_variables=['cuisine'], template='I want to open a restaurant for {cuisine} food. Suggent a fency name for this.') llm=OpenAI(client=<openai.resources.completions.Completions object at 0x000002369B92DA00>, async_client=<openai.resources.completions.AsyncCompletions object at 0x000002369DEC2F70>, openai_api_key=SecretStr('**********'), openai_proxy='') output_key='restaurant_name'\n"
     ]
    }
   ],
   "source": [
    "print(name_chain)"
   ]
  },
  {
   "cell_type": "code",
   "execution_count": 20,
   "id": "6f0f0746-456c-4192-9e86-3f5722871b93",
   "metadata": {},
   "outputs": [],
   "source": [
    "prompt_template_items = PromptTemplate(\n",
    "    input_variables = ['restaurant_name'],\n",
    "    template=\"Suggest some menu items for {restaurant_name}.\" )\n",
    "\n",
    "food_items_chain = LLMChain(llm=llm, prompt=prompt_template_items, output_key=\"menu_items\")"
   ]
  },
  {
   "cell_type": "code",
   "execution_count": 23,
   "id": "532acf8b-9a44-4540-884c-83b8dcbb12c9",
   "metadata": {},
   "outputs": [
    {
     "name": "stderr",
     "output_type": "stream",
     "text": [
      "C:\\Users\\ericr\\OneDrive\\Desktop\\Projects\\Data Science\\LLM Projects\\LangChain-Resturant-Project\\openai-env\\lib\\site-packages\\langchain_core\\_api\\deprecation.py:119: LangChainDeprecationWarning: The method `Chain.__call__` was deprecated in langchain 0.1.0 and will be removed in 0.3.0. Use invoke instead.\n",
      "  warn_deprecated(\n"
     ]
    },
    {
     "data": {
      "text/plain": [
       "{'cuisine': 'Salvadorian',\n",
       " 'restaurant_name': '\\n\\n\"El Sabor Salvadoreño\" (The Salvadorian Flavor)',\n",
       " 'menu_items': '\\n\\n1. Pupusas (thick corn tortillas stuffed with cheese, beans, and/or meat)\\n2. Sopa de Res (beef soup with vegetables)\\n3. Pollo encebollado (chicken in onion sauce)\\n4. Tamal de Elote (corn tamale)\\n5. Yuca frita (fried cassava)\\n6. Plátanos fritos (fried plantains)\\n7. Carne Asada (grilled steak)\\n8. Ensalada de Repollo (cabbage salad)\\n9. Arroz con camarones (rice with shrimp)\\n10. Chorizo con queso (sausage and cheese appetizer)\\n11. Tamales Salvadoreños (traditional Salvadorian tamales)\\n12. Chicharrón con yuca (fried pork belly with cassava)\\n13. Sopa de Pata (beef tripe soup)\\n14. Atol de Elote (creamy corn drink)\\n15. Empanadas de leche (sweet milk turnovers).'}"
      ]
     },
     "execution_count": 23,
     "metadata": {},
     "output_type": "execute_result"
    }
   ],
   "source": [
    "from langchain.chains import SequentialChain\n",
    "\n",
    "chain_generator = SequentialChain(\n",
    "    chains = [name_chain, food_items_chain],\n",
    "    input_variables = ['cuisine'],\n",
    "    output_variables = ['restaurant_name', 'menu_items'])\n",
    "\n",
    "chain_generator({'cuisine':'Salvadorian'})"
   ]
  },
  {
   "cell_type": "code",
   "execution_count": 27,
   "id": "653efdd3-276a-4177-b1ab-111bdea5417c",
   "metadata": {},
   "outputs": [
    {
     "data": {
      "text/plain": [
       "{'cuisine': 'Salvadorian',\n",
       " 'restaurant_name': '\\n\\n\"El Sabor de El Salvador\"',\n",
       " 'd': '\\n\\n1. Pupusas: Traditional corn tortillas stuffed with cheese, beans, or meat\\n2. Yuca frita: Fried yuca served with a tangy curtido (pickled cabbage) slaw\\n3. Sopa de res: Hearty beef and vegetable soup  \\n4. Pollo encebollado: Chicken cooked in a savory onion and tomato sauce  \\n5. Plátanos fritos: Fried plantains served as a side dish or snack  \\n6. Carne asada: Grilled marinated steak served with rice and beans  \\n7. Tamales: Corn husk-wrapped pockets of corn dough filled with meat, vegetables, and sauce  \\n8. Chorizo con huevos: Scrambled eggs with spicy chorizo sausage  \\n9. Ensalada de pupusa: A salad made with shredded pupusas, cabbage, and tomatoes  \\n10. Arroz con leche: Sweet rice pudding topped with cinnamon.'}"
      ]
     },
     "execution_count": 27,
     "metadata": {},
     "output_type": "execute_result"
    }
   ],
   "source": [
    "from operator import itemgetter\n",
    "from langchain.schema.runnable import RunnablePassthrough\n",
    "\n",
    "complete_chain = ({\n",
    "    \"cuisine\": itemgetter(\"cuisine\"),\n",
    "    \"restaurant_name\": chain}\n",
    "    | RunnablePassthrough.assign(d=composed_chain))\n",
    "complete_chain.invoke({\"cuisine\":\"Salvadorian\"})"
   ]
  },
  {
   "cell_type": "code",
   "execution_count": null,
   "id": "ba19be69-c78d-4c70-b177-1081921ac20f",
   "metadata": {},
   "outputs": [],
   "source": []
  }
 ],
 "metadata": {
  "kernelspec": {
   "display_name": "Python 3 (ipykernel)",
   "language": "python",
   "name": "python3"
  },
  "language_info": {
   "codemirror_mode": {
    "name": "ipython",
    "version": 3
   },
   "file_extension": ".py",
   "mimetype": "text/x-python",
   "name": "python",
   "nbconvert_exporter": "python",
   "pygments_lexer": "ipython3",
   "version": "3.9.18"
  }
 },
 "nbformat": 4,
 "nbformat_minor": 5
}
